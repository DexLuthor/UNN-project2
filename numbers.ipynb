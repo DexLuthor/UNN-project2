{
  "nbformat": 4,
  "nbformat_minor": 0,
  "metadata": {
    "colab": {
      "name": "Image_Classification_view.ipynb",
      "provenance": [],
      "collapsed_sections": []
    },
    "kernelspec": {
      "name": "python3",
      "display_name": "Python 3"
    },
    "accelerator": "GPU"
  },
  "cells": [
    {
      "cell_type": "markdown",
      "metadata": {
        "id": "9HQMQSdZ4FNo"
      },
      "source": [
        "## Imports"
      ]
    },
    {
      "cell_type": "code",
      "metadata": {
        "id": "xHQ0tiCXjQ0K"
      },
      "source": [
        "!pip install wget\n",
        "!pip install patool\n",
        "import wget\n",
        "import patoolib\n",
        "import os\n",
        "import cv2\n",
        "import numpy as np\n",
        "import math\n",
        "import matplotlib.pyplot as plt\n",
        "\n",
        "import keras\n",
        "from keras.utils import Sequence, to_categorical\n",
        "from keras import layers\n",
        "from keras.models import Sequential\n",
        "\n",
        "import imgaug.augmenters as iaa\n",
        "\n",
        "url = \"https://s.ics.upjs.sk/~shorvat/files/data/mnist.gz\"\n",
        "wget.download(url, \"mnist.gz\")\n",
        "patoolib.extract_archive(\"mnist.gz\", outdir=\"/content\")\n",
        "!tar -xvf '/content/trainingSet.tar' -C '/content/'"
      ],
      "execution_count": null,
      "outputs": []
    },
    {
      "cell_type": "markdown",
      "metadata": {
        "id": "itYJ6t8dF2CO"
      },
      "source": [
        "## Preprocessing"
      ]
    },
    {
      "cell_type": "code",
      "metadata": {
        "id": "z6lSR-QVkcPJ",
        "colab": {
          "base_uri": "https://localhost:8080/"
        },
        "outputId": "ba3d7574-8dfa-40de-b58c-d9cd97fc4ffb"
      },
      "source": [
        "data_dir = \"/content/trainingSet/\"\n",
        "expected_results = [];\n",
        "paths = [];\n",
        "less_than_five = [];\n",
        "\n",
        "# prejdeme kazdym podadresarom(0, 1, 2, ..., 9)\n",
        "for i in range(10):\n",
        "  # vytvorime nazov adresara\n",
        "  number_dir = data_dir + str(i)\n",
        "  \n",
        "  # ziskame cesty ku polozkam v adresare $number_dir\n",
        "  path_to_elements = os.listdir(number_dir)\n",
        "  \n",
        "  # vytvorime pole cisel zodpovedajucich obrazkam\n",
        "  expected_results += [i for j in path_to_elements]\n",
        "\n",
        "  # pole binarnych hodnot, urcujucich ci je cislo mensie ako 5\n",
        "  less_than_five += [1 if i < 5 else 0 for j in path_to_elements]\n",
        "\n",
        "  # pole ciest ku obrazkam\n",
        "  paths += [number_dir + \"/\" + j for j in path_to_elements]\n",
        "\n",
        "print(\"Array with expected predictions is ready\")\n",
        "print(\"Array with binary values meaning if a number is less than 5 is ready\")\n",
        "print(\"Array with paths is ready\")"
      ],
      "execution_count": 5,
      "outputs": [
        {
          "output_type": "stream",
          "text": [
            "Array with expected predictions is ready\n",
            "Array with binary values meaning if a number is less than 5 is ready\n",
            "Array with paths is ready\n"
          ],
          "name": "stdout"
        }
      ]
    },
    {
      "cell_type": "markdown",
      "metadata": {
        "id": "1XzDOp7UvNT9"
      },
      "source": [
        "### For two chars"
      ]
    },
    {
      "cell_type": "code",
      "metadata": {
        "id": "b8XrDrDXvLWY"
      },
      "source": [
        "class Generator(Sequence):\n",
        "    def __init__(self, paths, expected_results, less_than_five, batch_size, aug = None):\n",
        "        self.paths, self.expected_results, self.less_than_five = paths, expected_results, less_than_five\n",
        "        self.batch_size = batch_size\n",
        "        self.aug = aug\n",
        "\n",
        "    def __len__(self):\n",
        "        return math.ceil(len(self.paths) / self.batch_size)\n",
        "\n",
        "    def __getitem__(self, idx):\n",
        "        batch_x = self.paths[idx * self.batch_size : (idx + 1) * self.batch_size]\n",
        "        batch_y = self.expected_results[idx * self.batch_size : (idx + 1) * self.batch_size]\n",
        "        batch_y2 = self.less_than_five[idx * self.batch_size : (idx + 1) * self.batch_size]\n",
        "\n",
        "        batch_x = [cv2.imread(x, 0).reshape((28,28,1)) for x in batch_x]\n",
        "        \n",
        "        if self.aug != None:\n",
        "          batch_x = self.aug(images = batch_x)\n",
        "        \n",
        "        batch_y = to_categorical(batch_y, num_classes=10) \n",
        "        batch_y2 = to_categorical(batch_y2, num_classes=2) \n",
        "\n",
        "        return np.array(batch_x), [np.array(batch_y), np.array(batch_y2)]\n",
        "\n",
        "seq = iaa.Sequential([iaa.GaussianBlur(sigma=(0, 3.0))])\n",
        "\n",
        "train_gen = Generator(\n",
        "    paths,\n",
        "    expected_results,\n",
        "    less_than_five,\n",
        "    10,\n",
        "    aug=seq\n",
        ")\n",
        "test_gen = Generator(\n",
        "    paths,\n",
        "    expected_results,\n",
        "    less_than_five,\n",
        "    10\n",
        ")"
      ],
      "execution_count": 6,
      "outputs": []
    },
    {
      "cell_type": "markdown",
      "metadata": {
        "id": "VKhkkauF1Wwn"
      },
      "source": [
        "## Model"
      ]
    },
    {
      "cell_type": "code",
      "metadata": {
        "id": "y9LNsc8xvM5t"
      },
      "source": [
        "inp = layers.Input((28, 28, 1))\n",
        "conv1 = layers.Conv2D(16, (3,3), activation=\"relu\")(inp)\n",
        "maxp = layers.MaxPool2D(2,2)(conv1)\n",
        "flt = layers.Flatten()(maxp)\n",
        "\n",
        "fc = layers.Dense(10, \"softmax\", name=\"digit\")(flt)\n",
        "fc2 = layers.Dense(2, \"softmax\", name=\"less_than_five\")(flt)\n",
        "\n",
        "model = keras.Model(inputs=[inp], outputs = [fc, fc2])\n",
        "\n",
        "model.compile(optimizer=\"adam\", loss=keras.losses.categorical_crossentropy, metrics=[\"accuracy\"])\n",
        "history = model.fit(train_gen, epochs=2, validation_data=test_gen)"
      ],
      "execution_count": null,
      "outputs": []
    },
    {
      "cell_type": "markdown",
      "metadata": {
        "id": "iLResa5H_HIq"
      },
      "source": [
        "## Visualization"
      ]
    },
    {
      "cell_type": "code",
      "metadata": {
        "id": "QpYNotj8u-G6"
      },
      "source": [
        "plt.plot(history.history['loss'], label='loss')\r\n",
        "plt.plot(history.history['val_loss'], label='val_loss')\r\n",
        "plt.xlabel('Epoch')\r\n",
        "plt.ylabel('Value')\r\n",
        "plt.legend()\r\n",
        "plt.show()"
      ],
      "execution_count": null,
      "outputs": []
    }
  ]
}